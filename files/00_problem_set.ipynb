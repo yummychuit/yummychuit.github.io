{
 "cells": [
  {
   "cell_type": "markdown",
   "metadata": {},
   "source": [
    "# Problem set"
   ]
  },
  {
   "cell_type": "markdown",
   "metadata": {},
   "source": [
    "**190108**"
   ]
  },
  {
   "cell_type": "markdown",
   "metadata": {},
   "source": [
    "## 1. 이상한 덧셈\n",
    "> 숫자로 구성된 리스트에서 양의 정수의 합을 구하는 함수, `positive_sum`을 만들어 보아요\n",
    "\n",
    "예시)\n",
    "```python\n",
    "positive_sum([1, -10, 2]) # 3\n",
    "positive_sum([-1, -2, -3, -4]) # 0\n",
    "```"
   ]
  },
  {
   "cell_type": "code",
   "execution_count": null,
   "metadata": {},
   "outputs": [],
   "source": [
    "def positive_sum(exam):\n",
    "    tot = 0\n",
    "    \n",
    "    for index, num in enumerate(exam):\n",
    "        if num > 0:\n",
    "            tot += num\n",
    "        else:\n",
    "            tot\n",
    "    return tot\n",
    "        \n",
    "exam = [1, -10, 2]\n",
    "positive_sum(exam)"
   ]
  },
  {
   "cell_type": "code",
   "execution_count": null,
   "metadata": {},
   "outputs": [],
   "source": [
    "#풀이\n",
    "def positive_sum(numbers):\n",
    "    total = 0\n",
    "    for number in numbers:\n",
    "        if number > 0:\n",
    "            total += number\n",
    "    return total\n",
    "\n",
    "\n",
    "print(positive_sum([1, -10, 2]))\n",
    "print(positive_sum([-1, -2, -3, -4]))\n",
    "\n",
    "#추가 문제) 다른방식으로 풀어보기\n",
    "def pos_sum(numbers):\n",
    "    return sum(x for x in numbers if x > 0)\n",
    "\n",
    "print(pos_sum([-1, -2, -3, -4]))\n"
   ]
  },
  {
   "cell_type": "markdown",
   "metadata": {},
   "source": [
    "### 2.  문자열 탐색\n",
    "> 문자열 요소로만 이루어진 리스트를 넣었을 때, 문자열의 길이가 2 이상이고 주어진 문자열의 첫 번째와 마지막 문자가 같은 문자열의 수를 세는 함수 `start_end` 를 작성하세요\n",
    "\n",
    "예시)\n",
    "```python\n",
    "start_end(['level', 'asdwe', 's', 'abadsfa', 'qiq'])\n",
    "start_end(keywords) # 3\n",
    "```"
   ]
  },
  {
   "cell_type": "code",
   "execution_count": null,
   "metadata": {},
   "outputs": [],
   "source": [
    "def start_end(str_list):\n",
    "    total = 0\n",
    "    for i in range(len(str_list)):\n",
    "        if len(str_list[i]) >= 2 and str_list[i][0] == str_list[i][-1]:\n",
    "            total += 1\n",
    "        else:\n",
    "            total\n",
    "    return total\n",
    "\n",
    "start_end(['level', 'asdwe', 's', 'abadsfa', 'qiq']) "
   ]
  },
  {
   "cell_type": "code",
   "execution_count": null,
   "metadata": {},
   "outputs": [],
   "source": [
    "def start_end(words):\n",
    "    count = 0\n",
    "    for word in words:\n",
    "        if len(words) > 1 and word[0] == word[-1]:\n",
    "            count += 1\n",
    "    return count\n",
    "\n",
    "#string도 인덱스 접근 가능\n",
    "print(start_end(['level', 'asdwe', 's', 'abadsfa', 'qiq']))"
   ]
  },
  {
   "cell_type": "markdown",
   "metadata": {},
   "source": [
    "### 3. Collatz\n",
    "> Collatz 추측: 어떤 자연수 n 이든지, 다음과 같은 작업을 반복하면 1로 만들 수 있다.\n",
    "1. n이 짝수라면 2로 나눈다.\n",
    "2. n이 홀수라면 3을 곱하고 1을 더한다.\n",
    "3. 결과로 나온 수에 1 / 2 의 작업을 1이 될 때까지 반복한다.\n",
    "\n",
    "> 예를 들어 n이 6이면, 6 => 3 => 10 => 5 => 16 => 8 => 4 => 2 => 1 이 되며 8번(=>갯수!)만에 1이 됩니다. 자연수 n이 들어왔을 때, 몇 번의 작업만에 1이 되는지를 `return`하는 함수 `collatz()`를 완성하세요.\n",
    "\n",
    ">단! 500번을 넘어가도 1이 되지 않는다면, -1을 `return`할게요!\n",
    "\n",
    "예시)\n",
    "```python\n",
    "collatz(6) # 8\n",
    "collatz(16) # 4\n",
    "collatz(626331) #-1\n",
    "```"
   ]
  },
  {
   "cell_type": "code",
   "execution_count": null,
   "metadata": {},
   "outputs": [],
   "source": [
    "def collatz(n, co=0):\n",
    "    if co >= 500:\n",
    "        return -1\n",
    "    else:\n",
    "        if n > 1:\n",
    "            if n % 2 == 0:\n",
    "                n //= 2\n",
    "                co += 1\n",
    "            else:\n",
    "                n = n * 3 + 1\n",
    "                co += 1\n",
    "            return collatz(n, co)\n",
    "        elif n == 1:\n",
    "            return co\n",
    "    \n",
    "\n",
    "collatz(6)\n",
    "collatz(16)\n",
    "collatz(626331)"
   ]
  },
  {
   "cell_type": "code",
   "execution_count": null,
   "metadata": {},
   "outputs": [],
   "source": [
    "#풀이\n",
    "\n",
    "def collatz(num):\n",
    "    for i in range(500):\n",
    "        if num % 2: #0이 아니면 True =>홀수\n",
    "            num = num * 3 + 1\n",
    "        else: #짝수면\n",
    "            num = num / 2\n",
    "            \n",
    "        # num = num * 3 + 1 if num % 2 else num / 2\n",
    "        \n",
    "        if num == 1:\n",
    "            return i + 1\n",
    "    return -1\n",
    "\n",
    "print(collatz(6))\n",
    "print(collatz(16))\n",
    "print(collatz(626331))"
   ]
  },
  {
   "cell_type": "markdown",
   "metadata": {},
   "source": [
    "### 4. 솔로천국\n",
    "> 리스트가 주어질 때, 리스트의 요소 `e`는 `range(0, 10)`에 포함하는 자연수이다. 리스트에서 연속적으로 나타나는 숫자는 하나만 남기고 전부 제거하여 `return`하는 함수 `lonely()`를 작성해 보세요. 이때! 제거된 후 남은 수들을 반환할 때는 리스트의 요소들이 순서를 유지해야 합니다!\n",
    "\n",
    "예시)\n",
    "``` python\n",
    "lonely([1, 1, 3, 3, 0, 1, 1, 3, 0, 3]) # [1, 3, 0]\n",
    "lonely([4, 4, 3, 3, 3, 4]) # [4, 3]\n",
    "```"
   ]
  },
  {
   "cell_type": "code",
   "execution_count": null,
   "metadata": {},
   "outputs": [],
   "source": [
    "#앎\n",
    "def lonely(numbers):\n",
    "    new_num = []\n",
    "    for number in numbers:\n",
    "        if number not in new_num:\n",
    "            new_num.append(number)\n",
    "        else:\n",
    "            continue\n",
    "    return new_num\n",
    "    \n",
    "lonely([1, 1, 3, 3, 0, 1, 1, 3, 0, 3])\n",
    "lonely([4, 4, 3, 3, 3, 4])"
   ]
  },
  {
   "cell_type": "code",
   "execution_count": 4,
   "metadata": {},
   "outputs": [
    {
     "data": {
      "text/plain": [
       "[4, 3]"
      ]
     },
     "execution_count": 4,
     "metadata": {},
     "output_type": "execute_result"
    }
   ],
   "source": [
    "#풀이\n",
    "def lonely(numbers):\n",
    "    result = []\n",
    "    for number in numbers:\n",
    "        if not result: #result 리스트가 비어있으면\n",
    "            result.append(number)\n",
    "        elif result[-1] != number:\n",
    "            if result.count(number) == 0:\n",
    "                result.append(number)\n",
    "    return result\n",
    "\n",
    "lonely([1, 1, 3, 3, 0, 1, 1, 3, 0, 3])\n",
    "lonely([4, 4, 3, 3, 3, 4])"
   ]
  },
  {
   "cell_type": "code",
   "execution_count": 7,
   "metadata": {},
   "outputs": [
    {
     "data": {
      "text/plain": [
       "[4, 3]"
      ]
     },
     "execution_count": 7,
     "metadata": {},
     "output_type": "execute_result"
    }
   ],
   "source": [
    "def lonely(numbers):\n",
    "    result = []\n",
    "    for number in numbers:\n",
    "        if number not in result:#result 리스트가 비어있으면\n",
    "            result.append(number)\n",
    "    return result\n",
    "lonely([4, 4, 3, 3, 3, 4])"
   ]
  },
  {
   "cell_type": "markdown",
   "metadata": {},
   "source": [
    "### 5. (HARD) RGB 삼각형\n",
    "\n",
    "| BG   | RG   | BR   | RR   | GG   | BB   |\n",
    "| ---- | ---- | ---- | ---- | ---- | ---- |\n",
    "| R    | B    | G    | R    | G    | B    |\n",
    "\n",
    ">입력으로 `'R', 'G', 'B'`가 섞여있는 문자열이 들어온다. 문자열은 다음과 같이 합쳐진다. 해당 문자열을 처리하여 마지막 색깔만 `return`하는 `triangle()`을 작성하세요.\n",
    "```\n",
    "R R G B R G B B\n",
    " R B R G B R B\n",
    "  G G B R G G\n",
    "   G R G B G\n",
    "    B B R R\n",
    "     B G R\n",
    "      R B\n",
    "       G\n",
    "```\n",
    "\n",
    "예시)\n",
    "```python\n",
    "triangle('RRGBRGBB')#G\n",
    "triangle('GB')#R\n",
    "triangle('B')#B\n",
    "triangle('RGBG')#B\n",
    "```"
   ]
  },
  {
   "cell_type": "code",
   "execution_count": null,
   "metadata": {},
   "outputs": [],
   "source": [
    "def triangle(rgb):\n",
    "    for i in range(len(rgb)):\n",
    "        if rgb[i] == rgb[i+1]:\n",
    "            return rgb[i]\n",
    "        elif "
   ]
  },
  {
   "cell_type": "code",
   "execution_count": null,
   "metadata": {},
   "outputs": [],
   "source": [
    "#풀이"
   ]
  },
  {
   "cell_type": "markdown",
   "metadata": {},
   "source": [
    "### 6. 홀수개를 찾아라\n",
    "> 입력으로 list가 한 개 들어옵니다. 이 list에는 1개의 숫자만 홀수개 들어있습니다. 이 1개의 홀수개인 숫자를 `return`하는 `find_odd()`를 작성하세요\n",
    "\n",
    "예시)\n",
    "```\n",
    "find_odd([1, 1, 2, 2, 3, 3, 3]) #3\n",
    "find_odd([2, 1, 2]) #1\n",
    "find_odd([1, 2, 2, 3, 2, 2, 1]) #3\n",
    "```"
   ]
  },
  {
   "cell_type": "code",
   "execution_count": null,
   "metadata": {},
   "outputs": [],
   "source": []
  },
  {
   "cell_type": "code",
   "execution_count": null,
   "metadata": {},
   "outputs": [],
   "source": [
    "#풀이\n",
    "def find_odd(numbers):\n",
    "    for uniq in list(set(numbers)):\n",
    "        if numbers.count(uniq) % 2:\n",
    "            return uniq\n",
    "        \n",
    "def find_odd(numbers):\n",
    "    result = 0\n",
    "    for n in numbers:\n",
    "        result = result ^ n\n",
    "    return result\n",
    "\n",
    "from operator import xor\n",
    "#xor => 같으면 0, 다르면 1\n",
    "\n",
    "def find_odd(numbers):\n",
    "    return redude(xor, numbers)\n",
    "\n",
    "print(find_odd([1, 1, 2, 2, 3, 3, 3]))\n",
    "print(find_odd([2, 1, 2]))\n",
    "print(find_odd([1, 2, 2, 3, 2, 2, 1]))"
   ]
  },
  {
   "cell_type": "markdown",
   "metadata": {},
   "source": [
    "**190109**"
   ]
  },
  {
   "cell_type": "markdown",
   "metadata": {},
   "source": [
    "### 1. Up & Down\n",
    "> 우리가 `range(1, 101)` 중 하나를 생각한다. 컴퓨터가 절반에 위치한 숫자를 물어보고, 생각한 수보다 크면 1, 작으면 -1, 맞으면 0을 입력한다. 이때 몇번만에 컴퓨터가 맞췄는지 출력하고 프로그램을 끝낸다.\n",
    "\n",
    "예시)\n",
    "```sh\n",
    "숫자를 생각하세요..\n",
    "50\n",
    "> -1\n",
    "25\n",
    "> -1\n",
    "13\n",
    "> -1\n",
    "7\n",
    "> 1\n",
    "10\n",
    "> 1\n",
    "12\n",
    "> 0\n",
    "6번만에 맞혔습니다!\n",
    "```\n",
    "```python\n",
    "def guess_up_down(??, ??, ??):\n",
    "    count = 0\n",
    "    print('숫자를 생각하세요..')\n",
    "    n = 100 // 2\n",
    "    print(n)\n",
    "    count += 1\n",
    "    user_feedback = input('작으면 -1, 맞으면 0, 크면 1')\n",
    "    \n",
    "    print(f'{count} 번 만에 맞춤!'\n",
    "          \n",
    "guess_up_down(??, ??, ??)\n",
    "```\n",
    "    "
   ]
  },
  {
   "cell_type": "code",
   "execution_count": 1,
   "metadata": {
    "scrolled": false
   },
   "outputs": [
    {
     "name": "stdout",
     "output_type": "stream",
     "text": [
      "숫자를 생각하세요..\n",
      "생각한 숫자가 20.0보다 작으면 -1, 맞으면 0, 크면 1을 입력하세요!0\n",
      "0번 만에 맞춤!!!\n"
     ]
    }
   ],
   "source": [
    "#도전!\n",
    "def guess_up_down():\n",
    "    count = 0\n",
    "    n = 100 / 2\n",
    "    print('숫자를 생각하세요..')\n",
    "    user_feedback = input(f'생각한 숫자가 {n}보다 작으면 -1, 맞으면 0, 크면 1을 입력하세요!')\n",
    "    n_list = []\n",
    "    \n",
    "    if int(user_feedback) == 0:\n",
    "        print(f'{count}번 만에 맞춤!!!')\n",
    "        \n",
    "    elif int(user_feedback) == -1:\n",
    "        n = n / 2\n",
    "        user_feedback = input(f'생각한 숫자가 {n}보다 작으면 -1, 맞으면 0, 크면 1을 입력하세요!')\n",
    "        count += 1\n",
    "        n_list.append(n)\n",
    "        return guess_up_down(n)\n",
    "                    \n",
    "    elif int(user_feedback) == 1:\n",
    "        new_n = min(n_list.remove(n))\n",
    "        n = (new_n + n) / 2\n",
    "        user_feedback = input(f'생각한 숫자가 {n}보다 작으면 -1, 맞으면 0, 크면 1을 입력하세요!')\n",
    "        count += 1\n",
    "        n_list.append(n)\n",
    "        return guess_up_down(n)\n",
    "            \n",
    "guess_up_down()"
   ]
  },
  {
   "cell_type": "code",
   "execution_count": 4,
   "metadata": {},
   "outputs": [
    {
     "name": "stdout",
     "output_type": "stream",
     "text": [
      "[2, 3, 4, 5]\n"
     ]
    }
   ],
   "source": [
    "#힌트\n",
    "\n",
    "minimum = 0\n",
    "maximum = 100\n",
    "(minimum + maximum) // 2 #50\n",
    "up\n",
    "\n",
    "minimum = 0\n",
    "maximum = 50\n",
    "(minimum + maximum) // 2 #25\n",
    "down\n",
    "\n",
    "minimum = 25\n",
    "maximum = 37\n",
    "(minimum + maximum) // 2 #31\n",
    "up\n",
    "\n",
    "minimum = 31\n",
    "maximum = 37\n",
    "(minimum + maximum) // 2 #34\n",
    "up\n",
    "\n",
    "minimum = 34\n",
    "maximum = 37\n",
    "(minimum + maximum) // 2 #36\n",
    "up\n",
    "\n",
    "이 로직으로..."
   ]
  },
  {
   "cell_type": "code",
   "execution_count": 2,
   "metadata": {
    "scrolled": true
   },
   "outputs": [
    {
     "name": "stdout",
     "output_type": "stream",
     "text": [
      "숫자를 생각하세요..\n",
      "생각한 숫자가 50보다 작으면 -1, 맞으면 0, 크면 1을 입력하세요!-1\n",
      "숫자를 생각하세요..\n",
      "생각한 숫자가 25보다 작으면 -1, 맞으면 0, 크면 1을 입력하세요!-1\n",
      "숫자를 생각하세요..\n",
      "생각한 숫자가 12보다 작으면 -1, 맞으면 0, 크면 1을 입력하세요!-1\n",
      "숫자를 생각하세요..\n",
      "생각한 숫자가 6보다 작으면 -1, 맞으면 0, 크면 1을 입력하세요!-1\n",
      "숫자를 생각하세요..\n",
      "생각한 숫자가 3보다 작으면 -1, 맞으면 0, 크면 1을 입력하세요!1\n",
      "숫자를 생각하세요..\n",
      "생각한 숫자가 4보다 작으면 -1, 맞으면 0, 크면 1을 입력하세요!1\n",
      "숫자를 생각하세요..\n",
      "생각한 숫자가 5보다 작으면 -1, 맞으면 0, 크면 1을 입력하세요!0\n",
      "6번 만에 맞춤!!!\n"
     ]
    }
   ],
   "source": [
    "def guess_up_down(maximum=100, minimum=0, count=0):\n",
    "    n = round((maximum + minimum)//2 , 1)\n",
    "    print('숫자를 생각하세요..')\n",
    "    user_feedback = input(f'생각한 숫자가 {n}보다 작으면 -1, 맞으면 0, 크면 1을 입력하세요!')\n",
    "\n",
    "\n",
    "    if int(user_feedback) == 0:\n",
    "        print(f'{count}번 만에 맞춤!!!')\n",
    "    elif int(user_feedback) == -1:\n",
    "        maximum = n\n",
    "        n = round((maximum + minimum)//2 , 1)\n",
    "        count += 1\n",
    "        return guess_up_down(maximum, minimum, count)\n",
    "    elif int(user_feedback) == 1:\n",
    "        minimum = n\n",
    "        n = round((maximum + minimum)//2 , 1)\n",
    "        count += 1\n",
    "        return guess_up_down(maximum, minimum, count)\n",
    "    \n",
    "guess_up_down()"
   ]
  },
  {
   "cell_type": "code",
   "execution_count": 6,
   "metadata": {
    "scrolled": true
   },
   "outputs": [
    {
     "name": "stdout",
     "output_type": "stream",
     "text": [
      "숫자를 생각하세요!!\n",
      "50\n",
      "작으면 -1, 크면 1, 맞으면 00\n",
      "숫자를 생각하세요!!\n",
      "500\n",
      "작으면 -1, 크면 1, 맞으면 00\n"
     ]
    },
    {
     "data": {
      "text/plain": [
       "1"
      ]
     },
     "execution_count": 6,
     "metadata": {},
     "output_type": "execute_result"
    }
   ],
   "source": [
    "#풀이\n",
    "def guess_up_down():\n",
    "    count = 0\n",
    "    max_n, min_n = 101, 0\n",
    "    print('숫자를 생각하세요!!')\n",
    "    \n",
    "    while 1:\n",
    "        guess = (max_n + min_n) // 2\n",
    "        print(guess)\n",
    "        count += 1\n",
    "        feedback = int(input('작으면 -1, 크면 1, 맞으면 0'))\n",
    "        \n",
    "        if feedback == -1:\n",
    "            max_n = guess\n",
    "        elif feedback == 1:\n",
    "            min_n = guess\n",
    "        else:\n",
    "            return count\n",
    "guess_up_down()\n",
    "\n",
    "#숫자 넣어주기\n",
    "def guess_up_down(max_n):\n",
    "    count = 0\n",
    "    max_n, min_n = max_n + 1, 0\n",
    "    print('숫자를 생각하세요!!')\n",
    "    \n",
    "    while 1:\n",
    "        guess = (max_n + min_n) // 2\n",
    "        print(guess)\n",
    "        count += 1\n",
    "        feedback = int(input('작으면 -1, 크면 1, 맞으면 0'))\n",
    "        \n",
    "        if feedback == -1:\n",
    "            max_n = guess\n",
    "        elif feedback == 1:\n",
    "            min_n = guess\n",
    "        else:\n",
    "            return count\n",
    "guess_up_down(1000)"
   ]
  },
  {
   "cell_type": "markdown",
   "metadata": {},
   "source": [
    "**190110**"
   ]
  },
  {
   "cell_type": "markdown",
   "metadata": {},
   "source": [
    "### Hangman\n",
    "> 필요한 함수들! "
   ]
  },
  {
   "cell_type": "code",
   "execution_count": 7,
   "metadata": {},
   "outputs": [
    {
     "data": {
      "text/plain": [
       "False"
      ]
     },
     "execution_count": 7,
     "metadata": {},
     "output_type": "execute_result"
    }
   ],
   "source": [
    "# 설명\n",
    "#다 맞으면 True\n",
    "\n",
    "def is_answer(answer, letters):\n",
    "    answer = set(answer)\n",
    "    count = 0\n",
    "    for char in set(letters):\n",
    "        if char in answer:\n",
    "            count += 1\n",
    "    return len(answer) == count\n",
    "    \n",
    "is_answer('apple', ['a', 'p', 'l']) #False"
   ]
  },
  {
   "cell_type": "code",
   "execution_count": 8,
   "metadata": {
    "scrolled": true
   },
   "outputs": [
    {
     "data": {
      "text/plain": [
       "'app**'"
      ]
     },
     "execution_count": 8,
     "metadata": {},
     "output_type": "execute_result"
    }
   ],
   "source": [
    "# 맞힌 단어 표시\n",
    "def status(answer, letters):\n",
    "    for char in answer:\n",
    "        if char not in letters:\n",
    "            answer = answer.replace(char, '*')\n",
    "    return answer\n",
    "status('apple', ['a', 'p']) "
   ]
  },
  {
   "cell_type": "markdown",
   "metadata": {},
   "source": [
    "#### Hangman 로직만들기\n",
    "> 위의 코드를 활용하여 `hangman(answer)`를 만들자! <br>\n",
    "> 사용자가 답을 맞추거나 시도가 8번을 넘어가면 종료! (8번 가능, 9번째 죽음ㅠㅠ)"
   ]
  },
  {
   "cell_type": "code",
   "execution_count": null,
   "metadata": {},
   "outputs": [],
   "source": [
    "# 포기....ㅠㅠ엉엉 다시하자아아아아\n",
    "\n",
    "def is_answer(answer, letters):\n",
    "    answer = set(answer)\n",
    "    count = 0\n",
    "    for char in set(letters):\n",
    "        if char in answer:\n",
    "            count += 1\n",
    "    return len(answer) == count\n",
    "\n",
    "def status(answer, letters):\n",
    "    for char in answer:\n",
    "        if char not in letters:\n",
    "            answer = answer.replace(char, '*')\n",
    "    return answer\n",
    "\n",
    "def hangman(answer, input_letters=[], cnt=0):\n",
    "    if is_answer(answer, input_letters):\n",
    "        return 'WOW! YOU WIN!'\n",
    "    else:\n",
    "        letters = input('guess it!!: ').lower()\n",
    "        input_letters.append(letters)\n",
    "        \n",
    "        if cnt >= 9:\n",
    "            return 'YOU DIE'\n",
    "        \n",
    "        elif len(set(status(answer, input_letters).replace('*', ''))) > 0:\n",
    "            print(status(answer, input_letters))\n",
    "            return hangman(answer , input_letters, cnt)\n",
    "        \n",
    "        else : cnt += 1\n",
    "            return hangman(answer , input_letters, cnt)\n",
    "\n",
    "hangman('apple')"
   ]
  },
  {
   "cell_type": "code",
   "execution_count": 9,
   "metadata": {},
   "outputs": [
    {
     "name": "stdout",
     "output_type": "stream",
     "text": [
      "=====START=====\n",
      "남은 목숨: ♥♥♥♥♥♥♥♥\n",
      "*****\n",
      "알파벳을 입력하세요: a\n",
      "남은 목숨: ♥♥♥♥♥♥♥\n",
      "a****\n",
      "알파벳을 입력하세요: p\n",
      "남은 목숨: ♥♥♥♥♥♥\n",
      "app**\n",
      "알파벳을 입력하세요: l\n",
      "남은 목숨: ♥♥♥♥♥\n",
      "appl*\n",
      "알파벳을 입력하세요: e\n"
     ]
    },
    {
     "data": {
      "text/plain": [
       "'성공!!'"
      ]
     },
     "execution_count": 9,
     "metadata": {},
     "output_type": "execute_result"
    }
   ],
   "source": [
    "def hangman(answer):\n",
    "    input_letters = []\n",
    "    attempt = 8\n",
    "    print('=====START=====')\n",
    "    \n",
    "    while 1:\n",
    "        print(\"남은 목숨: \" + '♥' * attempt)\n",
    "        print(status(answer, input_letters))\n",
    "        \n",
    "        guess = input('알파벳을 입력하세요: ').lower()\n",
    "        input_letters.append(guess)\n",
    "        \n",
    "        # + some code\n",
    "        \n",
    "        if is_answer(answer, input_letters):\n",
    "            return '성공!!'\n",
    "        else:\n",
    "            attempt -= 1\n",
    "        \n",
    "        if not attempt:\n",
    "            return '실패ㅜㅜ'\n",
    "        \n",
    "hangman('apple')              "
   ]
  }
 ],
 "metadata": {
  "kernelspec": {
   "display_name": "Python 3",
   "language": "python",
   "name": "python3"
  },
  "language_info": {
   "codemirror_mode": {
    "name": "ipython",
    "version": 3
   },
   "file_extension": ".py",
   "mimetype": "text/x-python",
   "name": "python",
   "nbconvert_exporter": "python",
   "pygments_lexer": "ipython3",
   "version": "3.6.7"
  }
 },
 "nbformat": 4,
 "nbformat_minor": 2
}
