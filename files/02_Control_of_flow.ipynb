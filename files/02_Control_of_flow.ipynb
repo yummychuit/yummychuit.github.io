{
 "cells": [
  {
   "cell_type": "markdown",
   "metadata": {
    "slideshow": {
     "slide_type": "slide"
    }
   },
   "source": [
    "# 조건문\n",
    "\n",
    "지금까지의 코드는 위에서부터 아래로 순차적으로 명령을 수행하는 프로그램을 작성하였다. \n",
    "\n",
    "제어문(Control of Flow)은 크게 반복문과 조건문으로 나눌 수 있고, 이는 순서도(Flow chart로 표현이 가능하다.)\n",
    "\n",
    "\n",
    "<center> \n",
    "    <img src=\"./images/02/if.png\", alt='if flowchart'/>\n",
    "</center>\n"
   ]
  },
  {
   "cell_type": "code",
   "execution_count": null,
   "metadata": {
    "scrolled": false,
    "slideshow": {
     "slide_type": "subslide"
    }
   },
   "outputs": [],
   "source": [
    "# 위의 flow chart로 표현하면 아래와 같다.\n",
    "\n",
    "a = 5\n",
    "if a > 5:\n",
    "    print('5 초과')\n",
    "else:\n",
    "    print('5 이하')\n",
    "    \n",
    "print(a)"
   ]
  },
  {
   "cell_type": "markdown",
   "metadata": {
    "slideshow": {
     "slide_type": "slide"
    }
   },
   "source": [
    "## 조건문 문법\n",
    "\n",
    "1. `if` 문은 반드시 일정한 참/거짓을 판단할 수 있는 `조건식`과 함께 사용이 되어야한다.\n",
    "`if <조건식>:`\n",
    "\n",
    "2-1. `<조건식>`이 참인 경우 `:` 이후의 문장을 수행한다.\n",
    "\n",
    "2-2. `<조건식>`이 거짓인 경우 `else:` 이후의 문장을 수행한다.\n",
    "\n",
    "* 이때 반드시 **들여쓰기를** 유의해야한다. \n",
    "파이썬에서는 코드 블록을 자바나 C언어의 `{}`와 달리 `들여쓰기`로 판단하기 때문이다.\n",
    "* 앞으로 우리는 `PEP-8`에서 권장하는 `4spaces`를 사용할 것이다.\n"
   ]
  },
  {
   "cell_type": "markdown",
   "metadata": {},
   "source": [
    "<center>\n",
    "    <img src=\"./images/02/if_style.png\", alt=\"if style\"/>\n",
    "</center>"
   ]
  },
  {
   "cell_type": "markdown",
   "metadata": {
    "slideshow": {
     "slide_type": "subslide"
    }
   },
   "source": [
    "<center><strong style=\"font-size: 40px;\">우리는 4spaces를 맞춰서 씁니다!</strong></center>\n",
    "<br>\n",
    "\n",
    "<center>\n",
    "    <img src=\"./images/02/spacetab.png\", alt=\"[space vs tab]\"/>\n",
    "</center>    \n",
    "\n",
    "\n",
    "\n",
    "\n",
    "[출처 : 400,000 GitHub repositories, 1 billion files, 14 terabytes of code: Spaces or Tabs?](https://medium.com/@hoffa/400-000-github-repositories-1-billion-files-14-terabytes-of-code-spaces-or-tabs-7cfe0b5dd7fd)\n"
   ]
  },
  {
   "cell_type": "markdown",
   "metadata": {},
   "source": [
    "### 실습문제1 - 조건문 기초 활용\n",
    "\n",
    "\n",
    "> **조건문을 통해 변수 num의 값과 홀수/짝수 여부를 출력하세요.**\n",
    "\n",
    "---\n",
    "\n",
    "```\n",
    "예시 출력)\n",
    "3\n",
    "홀수입니다.\n",
    "```"
   ]
  },
  {
   "cell_type": "code",
   "execution_count": null,
   "metadata": {
    "slideshow": {
     "slide_type": "subslide"
    }
   },
   "outputs": [],
   "source": [
    "# 실습!\n",
    "# number = int(input()) #input()은 내용이 저장이 되지 않아 user_input으로 저장해줌\n",
    "# print(number, type(number))\n",
    "num = int(input(\"점수를 입력하세요 : \"))\n",
    "# 아래에 코드를 작성하세요.\n",
    "if num % 2 == 1:\n",
    "    print('홀수입니다.')\n",
    "else:\n",
    "    print('짝수입니다.')"
   ]
  },
  {
   "cell_type": "markdown",
   "metadata": {},
   "source": [
    "### 실습문제2\n",
    "> 아래 코드의 출력 결과를 예상해보세요"
   ]
  },
  {
   "cell_type": "code",
   "execution_count": null,
   "metadata": {},
   "outputs": [],
   "source": [
    "if True:\n",
    "    if False:\n",
    "        print(1)\n",
    "        print(2)\n",
    "    else:\n",
    "        print(3)\n",
    "else:\n",
    "    print(4)\n",
    "print(5)\n",
    "\n",
    "#3 5\n"
   ]
  },
  {
   "cell_type": "markdown",
   "metadata": {},
   "source": [
    "### 실습문제3\n",
    "> 주머니에 5000원이 있다. 택시를 타려면 주머니에 4000원 이상 혹은 카드가 있어야 한다. 이때 택시를 탈 수 있는지 확인하는 코드를 짜보자."
   ]
  },
  {
   "cell_type": "code",
   "execution_count": null,
   "metadata": {},
   "outputs": [],
   "source": [
    "money = 1000\n",
    "card = False\n",
    "\n",
    "if money >= 4000 or card == True: # money >= 4000 or card: 와 같다. True를 써주지 않아도 됨.\n",
    "    print('택시')\n",
    "else:\n",
    "    print('BMW')\n",
    "    \n",
    "print('taxi') if money >= 4000 or card else print('BMW')"
   ]
  },
  {
   "cell_type": "code",
   "execution_count": null,
   "metadata": {},
   "outputs": [],
   "source": [
    "print(is_taxi(돈, 카드여부))\n",
    "True, False\n",
    "\n",
    "def is_taxi(money, card):\n",
    "    if money >= 4000 or card:\n",
    "        return True\n",
    "    else:\n",
    "        return False\n",
    "\n",
    "print(is_taxi(돈, 카드여부))\n",
    "\n",
    "# def is_taxi(money, card):\n",
    "#     if money >= 4000 or card:\n",
    "#         result = True\n",
    "#     else:\n",
    "#         result = False\n",
    "#     return result\n"
   ]
  },
  {
   "cell_type": "markdown",
   "metadata": {
    "slideshow": {
     "slide_type": "slide"
    }
   },
   "source": [
    "## 복수 조건문\n",
    "\n",
    "2개 이상의 조건문을 활용할 경우 `elif <조건식>:`을 활용한다.\n",
    "<center>\n",
    "<img src=\"./images/02/elif.png\", alt=\"elif\">\n",
    "</center>"
   ]
  },
  {
   "cell_type": "markdown",
   "metadata": {
    "slideshow": {
     "slide_type": "subslide"
    }
   },
   "source": [
    "### 실습문제1 - 조건식 2개 이상 활용하기\n",
    "\n",
    "> 조건문을 통해 변수 score에 따른 평점을 출력하세요.\n",
    "\n",
    "|점수|등급|\n",
    "|---|---|\n",
    "|90점 이상|A|\n",
    "|80점 이상|B|\n",
    "|70점 이상|C|\n",
    "|60점 이상|D|\n",
    "|60점 미만|F|\n",
    "\n",
    "--- \n",
    "\n",
    "```\n",
    "예시 출력)\n",
    "B\n",
    "```"
   ]
  },
  {
   "cell_type": "code",
   "execution_count": null,
   "metadata": {
    "slideshow": {
     "slide_type": "-"
    }
   },
   "outputs": [],
   "source": [
    "# 실습!\n",
    "score = int(input(\"점수를 입력하세요 : \"))\n",
    "# 아래에 코드를 작성하세요.\n",
    "if score >= 90:\n",
    "    print('A')\n",
    "elif score >= 80:\n",
    "    print('B')\n",
    "elif score >= 70:\n",
    "    print('C')\n",
    "elif score >= 60:\n",
    "    print('D')\n",
    "else:\n",
    "    print('F')"
   ]
  },
  {
   "cell_type": "code",
   "execution_count": null,
   "metadata": {},
   "outputs": [],
   "source": [
    "string = 'life is too short, you need python'\n",
    "\n",
    "if 'wife' in string:\n",
    "    print('wife')\n",
    "elif 'python' in string and 'you' not in string:\n",
    "    print('python')\n",
    "elif 'shirt' not in string:\n",
    "    print('shirt')\n",
    "elif 'need' in string:\n",
    "    print('need')\n",
    "else:\n",
    "    print('Nothing..')\n",
    "    \n",
    "#shirt"
   ]
  },
  {
   "cell_type": "markdown",
   "metadata": {
    "slideshow": {
     "slide_type": "subslide"
    }
   },
   "source": [
    "### 실습문제3 - 중첩 조건문 활용\n",
    "\n",
    "> **위의 실습문제 2코드를 활용하여 \n",
    "95점 이상이면, \"참잘했어요\"를 함께 출력해주세요**\n",
    "\n",
    "--- \n",
    "\n",
    "```\n",
    "예시 출력)\n",
    "A\n",
    "참잘했어요\n",
    "```"
   ]
  },
  {
   "cell_type": "code",
   "execution_count": null,
   "metadata": {},
   "outputs": [],
   "source": [
    "# 실습!\n",
    "score = 96\n",
    "\n",
    "if score >= 95:\n",
    "    print('A\\n참잘했어요')\n",
    "elif score >= 90:\n",
    "    print('A')\n",
    "elif score >= 80:\n",
    "    print('B')\n",
    "elif score >= 70:\n",
    "    print('C')\n",
    "elif score >= 60:\n",
    "    print('D')\n",
    "else:\n",
    "    print('F')\n",
    "    \n",
    "if score >= 90:\n",
    "    print('A')\n",
    "    if score >= 95:\n",
    "        print('참잘했어요')\n",
    "elif score >= 80:\n",
    "    print('B')\n",
    "elif score >= 70:\n",
    "    print('C')\n",
    "elif score >= 60:\n",
    "    print('D')\n",
    "else:\n",
    "    print('F')"
   ]
  },
  {
   "cell_type": "code",
   "execution_count": null,
   "metadata": {},
   "outputs": [],
   "source": [
    "# FizzBuzz\n",
    "#3의 배수면, Fizz\n",
    "#5의 배수면, Buzz\n",
    "#3과 5의 배수면, FizzBuzz\n",
    "\n",
    "n = int(input('숫자를 입력하세요: '))\n",
    "\n",
    "for i in range(1, n + 1):\n",
    "    if i % 3 == 0:\n",
    "        if i % 5 == 0:\n",
    "            print('FizzBuzz')\n",
    "        else:\n",
    "            print('Fizz')\n",
    "    elif i % 5 == 0:\n",
    "        print('Buzz')\n",
    "    else:\n",
    "        print(i)\n",
    "        \n",
    "for i in range(1, n + 1):\n",
    "    if (i % 3 == 0) and (i % 5 == 0):\n",
    "        print('FizzBuzz')\n",
    "    elif i % 3 == 0:\n",
    "        print('Fizz')\n",
    "    elif i % 5 == 0:\n",
    "        print('Buzz')\n",
    "    else:\n",
    "        print(i)"
   ]
  },
  {
   "cell_type": "markdown",
   "metadata": {},
   "source": [
    "### 실습문제\n",
    ">정수 3개가 들어온다. 이때, 2번째로 큰 정수를 출력하라!"
   ]
  },
  {
   "cell_type": "code",
   "execution_count": null,
   "metadata": {},
   "outputs": [],
   "source": [
    "# a, b, c = 10, 15, 5\n",
    "# print(a, b, c)\n",
    "\n",
    "# def second_number(a, b, c):\n",
    "#     biggest = second_number\n",
    "#     for number in numbers:\n",
    "#         if number > biggest:\n",
    "#             biggest = number\n",
    "    \n",
    "#     return \n",
    "\n",
    "# def second_number(a, b, c):\n",
    "#     biggest = a\n",
    "#     if b > biggest:\n",
    "#         biggest = b\n",
    "#     elif c > biggest:\n",
    "#         biggst = c\n",
    "#     smallest = c\n",
    "#     if b < smallest:\n",
    "#         smallest = b\n",
    "#     elif c < smallest:\n",
    "#         smallest = c\n",
    "\n",
    "#망했.. 어렵....ㅠㅠ"
   ]
  },
  {
   "cell_type": "code",
   "execution_count": null,
   "metadata": {},
   "outputs": [],
   "source": [
    "def second_number(a, b, c):\n",
    "\n",
    "    #a가 가운데일 때\n",
    "    if (b <= a and a <= c) or (c <= a and a <= b):\n",
    "        return a\n",
    "\n",
    "    #b가 가운데일 때\n",
    "    elif (a <= b <= c) or (c <= b <= a):\n",
    "        return b\n",
    "\n",
    "    #c가 가운데일 때\n",
    "    else:\n",
    "        return c\n",
    "\n",
    "print(second_number(0, -1, 1))\n",
    "print(second_number(1, 0, 2))\n",
    "\n",
    "print(second_number(1, 2, 3))\n",
    "print(second_number(-2, -1, 0))\n",
    "\n",
    "print(second_number(1, -1, 0))\n",
    "print(second_number(10, 30, 20))\n",
    "\n",
    "print(second_number(10, 10, 10))\n",
    "print(second_number(1, 1, 0))\n",
    "\n",
    "\n",
    "def second(a, b, c):\n",
    "    if (b - a) * (c - a) < 0:\n",
    "        return a\n",
    "    elif (c - b) * (a - b) < 0:\n",
    "        return b\n",
    "    else:\n",
    "        return c\n",
    "    \n",
    "# def second_unknown(*numbers):\n",
    "#     sort로 풀기"
   ]
  },
  {
   "cell_type": "markdown",
   "metadata": {},
   "source": [
    "### 실습문제!\n",
    "#### 환율계산\n",
    "\n",
    "> 사용자가 띄어쓰기를 기준으로, (Volume 단위)로 입력한다. 원화로 계산해서 print 해주자."
   ]
  },
  {
   "cell_type": "code",
   "execution_count": null,
   "metadata": {},
   "outputs": [],
   "source": [
    "#input => 100 달러, 300 유로, 200 위안, 1000 엔\n",
    "\n",
    "def currency_calculator(volume, unit):\n",
    "    currency = {\n",
    "    'USD': 1167,\n",
    "    'JPY': 10.96,\n",
    "    'EUR': 1268,\n",
    "    'CNY': 171\n",
    "    }\n",
    "    if unit == '달러':\n",
    "        key = 'USD'\n",
    "    elif unit == '유로':\n",
    "        key = 'EUR'\n",
    "    elif unit == '위안':\n",
    "        key = 'CNY'\n",
    "    elif unit == '엔':\n",
    "        key = 'JPY'\n",
    "    else:\n",
    "        print('ㅜㅠ')\n",
    "        \n",
    "    return round(currency[key] * volume, 2)\n",
    "\n",
    "\n",
    "volume, unit = input('얼마에요: ').split() #split(' ') 괄호 안을 기준으로 자를거야! 디폴트 값이 띄어쓰기.\n",
    "int_volume = int(volume)\n",
    "cal_result = currency_calculator(int_volume, unit)\n",
    "print(f'{volume}{unit} = {cal_result}원 입니다.')\n"
   ]
  },
  {
   "cell_type": "code",
   "execution_count": null,
   "metadata": {},
   "outputs": [],
   "source": [
    "user_input = input('volume & unit: ').split()\n",
    "volume = int(user_input[0])\n",
    "unit = user_input[1]\n",
    "\n",
    "def currency_calculator(volume, unit):\n",
    "    currency = {\n",
    "    'USD': 1167,\n",
    "    'JPY': 10.96,\n",
    "    'EUR': 1268,\n",
    "    'CNY': 171\n",
    "    }\n",
    "    unit_currency = {\n",
    "        '달러': 'USD',\n",
    "        '엔': 'JPN',\n",
    "        '유로': 'EUR',\n",
    "        '위안': 'CNY'\n",
    "    }\n",
    "    return round(volume * currency[unit_currency[unit]], 2)\n",
    "                                   \n",
    "print(currency_calculator(volume, unit))"
   ]
  },
  {
   "cell_type": "markdown",
   "metadata": {
    "slideshow": {
     "slide_type": "slide"
    }
   },
   "source": [
    "## 조건 표현식(Conditional Expression)\n",
    "\n",
    "**활용법**\n",
    "\n",
    "```\n",
    "true_value if <조건식> else false_value\n",
    "```\n",
    "    \n",
    "와 같이 표현식을 작성할 수 있다. 이는 보통 다른 언어에서 활용되는 삼항연산자와 동일하다."
   ]
  },
  {
   "cell_type": "code",
   "execution_count": null,
   "metadata": {},
   "outputs": [],
   "source": [
    "# if 와 else만 쓰는 경우 사용 가능\n",
    "\n",
    "num = 3\n",
    "print('3이네!') if num == 3 else print('3이 아니네.')"
   ]
  },
  {
   "cell_type": "markdown",
   "metadata": {
    "slideshow": {
     "slide_type": "subslide"
    }
   },
   "source": [
    "* 표현식은 보통 조건에 따라 값을 정할 때 많이 활용된다."
   ]
  },
  {
   "cell_type": "code",
   "execution_count": null,
   "metadata": {},
   "outputs": [],
   "source": [
    "# 아래의 코드는 무엇을 위한 코드일까요?\n",
    "num = int(input(\"숫자를 입력하세요 : \"))\n",
    "value = num if num >= 0 else 0\n",
    "print(value)\n",
    "\n",
    "#value =  /  num if num >= 0 else 0 => value가 num >= 0 이면 num이고 아니면 0이다."
   ]
  },
  {
   "cell_type": "code",
   "execution_count": null,
   "metadata": {
    "slideshow": {
     "slide_type": "fragment"
    }
   },
   "outputs": [],
   "source": [
    "# 위의 코드와 동일한 코드입니다.\n",
    "num = int(input('숫자를 넣어라!'))\n",
    "if num >= 0:\n",
    "    num = num\n",
    "else:\n",
    "    num = 0\n",
    "print(num)"
   ]
  },
  {
   "cell_type": "code",
   "execution_count": null,
   "metadata": {
    "slideshow": {
     "slide_type": "subslide"
    }
   },
   "outputs": [],
   "source": [
    "# 다음의 코드와 동일한 조건 표현식을 작성해보세요.\n",
    "num = 2\n",
    "if num % 2:\n",
    "    result = '홀수입니다.'\n",
    "else:\n",
    "    result = '짝수입니다.'\n",
    "print(result)\n",
    "\n",
    "#위와 같은 내용 -> 1은 True이기 때문\n",
    "# num = 2\n",
    "# if num % 2 == 1:\n",
    "#     result = '홀수입니다.'\n",
    "# else:\n",
    "#     result = '짝수입니다.'\n",
    "# print(result)"
   ]
  },
  {
   "cell_type": "code",
   "execution_count": null,
   "metadata": {},
   "outputs": [],
   "source": [
    "# 여기에 코드를 작성하세요.\n",
    "num = 2\n",
    "result = '홀수입니다' if num % 2 else '짝수입니다'\n",
    "print(result)"
   ]
  },
  {
   "cell_type": "markdown",
   "metadata": {
    "slideshow": {
     "slide_type": "slide"
    }
   },
   "source": [
    "# 반복문\n",
    "\n",
    "## `while` 문\n",
    "\n",
    "`while`문은 조건식이 참(True)인 경우 반복적으로 코드를 실행합니다. \n",
    "<br>\n",
    "<br>\n",
    "<center> \n",
    "    <img src=\"./images/02/while.png\", alt=\"while\"/>\n",
    "</center>\n",
    "\n",
    "**while 문은 종료조건을 반드시 설정해주어야 합니다.**"
   ]
  },
  {
   "cell_type": "code",
   "execution_count": null,
   "metadata": {},
   "outputs": [],
   "source": [
    "a = 0\n",
    "while a < 5:\n",
    "    print(a)\n",
    "    a += 1\n",
    "print('끝')"
   ]
  },
  {
   "cell_type": "markdown",
   "metadata": {
    "slideshow": {
     "slide_type": "subslide"
    }
   },
   "source": [
    "<center>\n",
    "    <img src=\"./images/02/while_style.png\", alt=\"\">\n",
    "</center>\n",
    "\n",
    "`while`문 역시 `<조건식>`이후에 `:`이 반드시 필요하며, \n",
    "\n",
    "이후 오는 코드 블록은 `4spaces`로 **들여쓰기**를 해주셔야 합니다."
   ]
  },
  {
   "cell_type": "markdown",
   "metadata": {
    "slideshow": {
     "slide_type": "slide"
    }
   },
   "source": [
    "## `for` 문\n",
    "\n",
    "`for`문은 정해진 범위 내(시퀀스)에서 순차적으로 코드를 실행합니다.\n",
    "\n",
    "<br>\n",
    "<center>\n",
    "    <img src=\"./images/02/loop-for.png\", alt=\"\">\n",
    "</center>"
   ]
  },
  {
   "cell_type": "code",
   "execution_count": null,
   "metadata": {
    "scrolled": true,
    "slideshow": {
     "slide_type": "subslide"
    }
   },
   "outputs": [],
   "source": [
    "ss3 = ['황은석', '지상현', '조성규', '장재영', '이지선']\n",
    "for name in ss3:\n",
    "    print(name) \n",
    "    \n",
    "for number in range(10):\n",
    "    print(number, end = ' ')\n",
    "    \n",
    "print('--', number)"
   ]
  },
  {
   "cell_type": "markdown",
   "metadata": {
    "slideshow": {
     "slide_type": "subslide"
    }
   },
   "source": [
    "<center>\n",
    "    <img src=\"./images/02/for_style.png\", alt=\"for_style\">\n",
    "</center>\n",
    "\n",
    "---\n",
    "```\n",
    "for variable in sequence:\n",
    "    code line1\n",
    "    code line2\n",
    "```\n",
    "\n",
    "`for`문은 `sequence`를 순차적으로 **variable**에 값을 바인딩하며, 코드 블록을 시행합니다."
   ]
  },
  {
   "cell_type": "markdown",
   "metadata": {
    "slideshow": {
     "slide_type": "subslide"
    }
   },
   "source": [
    "![for animation](./images/02/for.gif)"
   ]
  },
  {
   "cell_type": "markdown",
   "metadata": {
    "slideshow": {
     "slide_type": "subslide"
    }
   },
   "source": [
    "###  실습문제\n",
    "\n",
    "> 반복문과 조건문만 활용하여 1~30까지 숫자 중에 홀수만 담긴 리스트를 만드세요\n",
    "\n",
    "---\n",
    "```\n",
    "예시 출력)\n",
    "[1, 3, 5, 7, 9, 11, 13, 15, 17, 19, 21, 23, 25, 27, 29]\n",
    "```"
   ]
  },
  {
   "cell_type": "code",
   "execution_count": null,
   "metadata": {
    "slideshow": {
     "slide_type": "subslide"
    }
   },
   "outputs": [],
   "source": [
    "# 여기에 코드를 작성하세요.\n",
    "odds = []\n",
    "\n",
    "for i in range(1, 31):\n",
    "    if i % 2 == 1: #if i % 2: 와 동일\n",
    "        odds = odds + [i]\n",
    "print(odds)"
   ]
  },
  {
   "cell_type": "code",
   "execution_count": null,
   "metadata": {},
   "outputs": [],
   "source": [
    "# 1부터 100까지 자연수 중에 5의 배수들의 총 합을 구하세요\n",
    "figure = 0\n",
    "for num in range(1, 101):\n",
    "    if num % 5 == 0:\n",
    "        figure += num\n",
    "print(figure)\n",
    "\n",
    "s = 0\n",
    "for i in range(1, 21):\n",
    "    s += i\n",
    "result = s * 5\n",
    "print(result)\n",
    "\n",
    "b = 0\n",
    "for i in range(1, 21):\n",
    "    b += i * 5\n",
    "print(b)\n",
    "\n"
   ]
  },
  {
   "cell_type": "markdown",
   "metadata": {},
   "source": [
    "### 실습문제\n",
    "#### sigma\n",
    "> 정수 n이 들어오면, 1 ~ n까지의 합을 출력하기 (함수로)"
   ]
  },
  {
   "cell_type": "code",
   "execution_count": 8,
   "metadata": {},
   "outputs": [
    {
     "name": "stdout",
     "output_type": "stream",
     "text": [
      "숫자를 입력하세요: 3\n",
      "6.0\n"
     ]
    }
   ],
   "source": [
    "#SIGMA\n",
    "\n",
    "num = int(input('숫자를 입력하세요: '))\n",
    "\n",
    "def tot_num(num):\n",
    "    sigma = num * (num + 1) / 2\n",
    "    return sigma\n",
    "print(tot_num(num))"
   ]
  },
  {
   "cell_type": "code",
   "execution_count": 67,
   "metadata": {},
   "outputs": [
    {
     "name": "stdout",
     "output_type": "stream",
     "text": [
      "55\n",
      "55\n"
     ]
    }
   ],
   "source": [
    "#풀이\n",
    "\n",
    "n = 10\n",
    "total = 0\n",
    "for i in range(1, n + 1):\n",
    "    total += i\n",
    "print(total)\n",
    "\n",
    "print(sum(list(range(1, n + 1))))"
   ]
  },
  {
   "cell_type": "markdown",
   "metadata": {},
   "source": [
    "### 실습문제\n",
    "#### 99단\n",
    "> `for`와 `range`로 99단 출력하기"
   ]
  },
  {
   "cell_type": "code",
   "execution_count": 23,
   "metadata": {},
   "outputs": [
    {
     "name": "stdout",
     "output_type": "stream",
     "text": [
      "1  2  3  4  5  6  7  8  9  \n",
      "2  4  6  8  10  12  14  16  18  \n",
      "3  6  9  12  15  18  21  24  27  \n",
      "4  8  12  16  20  24  28  32  36  \n",
      "5  10  15  20  25  30  35  40  45  \n",
      "6  12  18  24  30  36  42  48  54  \n",
      "7  14  21  28  35  42  49  56  63  \n",
      "8  16  24  32  40  48  56  64  72  \n",
      "9  18  27  36  45  54  63  72  81  \n"
     ]
    }
   ],
   "source": [
    "# 1  2  3  4  5  6  7  8  9\n",
    "# 2  4  6 ...\n",
    "\n",
    "for x in range(1, 10):\n",
    "    for y in range(1, 10):\n",
    "        print(x * y, end='  ')\n",
    "    print('')\n"
   ]
  },
  {
   "cell_type": "code",
   "execution_count": 71,
   "metadata": {},
   "outputs": [
    {
     "name": "stdout",
     "output_type": "stream",
     "text": [
      "2  4  6  8  10  12  14  16  18  \n",
      "3  6  9  12  15  18  21  24  27  \n",
      "4  8  12  16  20  24  28  32  36  \n",
      "5  10  15  20  25  30  35  40  45  \n",
      "6  12  18  24  30  36  42  48  54  \n",
      "7  14  21  28  35  42  49  56  63  \n",
      "8  16  24  32  40  48  56  64  72  \n",
      "9  18  27  36  45  54  63  72  81  \n"
     ]
    }
   ],
   "source": [
    "#풀이\n",
    "\n",
    "for i in range(2, 10):\n",
    "    for j in range(1, 10):\n",
    "        print(i * j, end='  ')\n",
    "    print()"
   ]
  },
  {
   "cell_type": "markdown",
   "metadata": {},
   "source": [
    "### 실습문제\n",
    "#### 삼각형\n",
    "> 입력으로 높이(h)가 들어옵니다. 높이만큼 산 모양으로 출력하기 (함수- 안에 print로 끝. no out)"
   ]
  },
  {
   "cell_type": "code",
   "execution_count": 79,
   "metadata": {},
   "outputs": [
    {
     "name": "stdout",
     "output_type": "stream",
     "text": [
      "높이: 3\n",
      "  *****   \n",
      "None\n"
     ]
    }
   ],
   "source": [
    "# h = 3\n",
    "#   ★\n",
    "#   *\n",
    "#  ***\n",
    "# *****\n",
    "\n",
    "h = int(input('높이: '))\n",
    "\n",
    "def tree(h):\n",
    "    for leaf in range(1, h*2):\n",
    "        if leaf % 2 == 1:\n",
    "            branch = leaf * '*'\n",
    "            sprig = (branch).center(10, ' ')\n",
    "        else:\n",
    "            continue \n",
    "        print(sprig)\n",
    "\n",
    "print(tree(h))"
   ]
  },
  {
   "cell_type": "code",
   "execution_count": 73,
   "metadata": {},
   "outputs": [
    {
     "name": "stdout",
     "output_type": "stream",
     "text": [
      "    *\n",
      "   ***\n",
      "  *****\n",
      " *******\n",
      "*********\n"
     ]
    }
   ],
   "source": [
    "#풀이\n",
    "h = 5\n",
    "for i in range(h):\n",
    "    for j in reversed(range(h)):\n",
    "        if i < j:\n",
    "            print(' ', end='')\n",
    "        else:\n",
    "            print('*', end='')\n",
    "    for j in range(h):\n",
    "        if i > j:\n",
    "            print('*', end='')\n",
    "    print()\n",
    "    "
   ]
  },
  {
   "cell_type": "code",
   "execution_count": 85,
   "metadata": {},
   "outputs": [
    {
     "name": "stdout",
     "output_type": "stream",
     "text": [
      "         ★\n",
      "         *         \n",
      "        ***        \n",
      "       *****       \n",
      "      *******      \n",
      "     *********     \n",
      "    ***********    \n",
      "   *************   \n",
      "  ***************  \n",
      " ***************** \n",
      "*******************\n",
      "====================================\n",
      "* * * * * * * * * * \n",
      "* * * * * * * * * * \n",
      "* * * * * * * * * * \n",
      "* * * * * * * * * * \n",
      "* * * * * * * * * * \n",
      "* * * * * * * * * * \n",
      "* * * * * * * * * * \n",
      "* * * * * * * * * * \n",
      "* * * * * * * * * * \n",
      "* * * * * * * * * * \n",
      "====================================\n",
      "* * * * * * * * * *  \n",
      "* * * * * * * * * *  \n",
      "* * * * * * * * * *  \n",
      "* * * * * * * * * *  \n",
      "* * * * * * * * * *  \n",
      "* * * * * * * * * *  \n",
      "* * * * * * * * * *  \n",
      "* * * * * * * * * *  \n",
      "* * * * * * * * * *  \n",
      "* * * * * * * * * *  \n"
     ]
    }
   ],
   "source": [
    "#풀이\n",
    "\n",
    "def tree(h):\n",
    "    print(' ' * (h - 1) + '★')\n",
    "    for i in range(h):\n",
    "        print(' ' * (h - i - 1) + '*' * ((i + 1) * 2 - 1) + ' ' * (h - i - 1))\n",
    "tree(10)\n",
    "\n",
    "print('====================================')\n",
    "\n",
    "for i in range(10):\n",
    "    for j in range(10):\n",
    "        print('*', end=' ')\n",
    "    print()\n",
    "\n",
    "print('====================================')\n",
    "    \n",
    "n = 10\n",
    "for i in range(n):\n",
    "    print('* ' * n, end=' ')\n",
    "    print()"
   ]
  },
  {
   "cell_type": "code",
   "execution_count": 22,
   "metadata": {},
   "outputs": [
    {
     "ename": "RecursionError",
     "evalue": "maximum recursion depth exceeded",
     "output_type": "error",
     "traceback": [
      "\u001b[1;31m---------------------------------------------------------------------------\u001b[0m",
      "\u001b[1;31mRecursionError\u001b[0m                            Traceback (most recent call last)",
      "\u001b[1;32m<ipython-input-22-e2ad38d34043>\u001b[0m in \u001b[0;36m<module>\u001b[1;34m\u001b[0m\n\u001b[1;32m----> 1\u001b[1;33m \u001b[0mnumbers\u001b[0m \u001b[1;33m=\u001b[0m \u001b[0mlist\u001b[0m\u001b[1;33m(\u001b[0m\u001b[0msecond_number\u001b[0m\u001b[1;33m(\u001b[0m\u001b[0ma\u001b[0m\u001b[1;33m,\u001b[0m \u001b[0mb\u001b[0m\u001b[1;33m,\u001b[0m \u001b[0mc\u001b[0m\u001b[1;33m)\u001b[0m\u001b[1;33m)\u001b[0m\u001b[1;33m\u001b[0m\u001b[1;33m\u001b[0m\u001b[0m\n\u001b[0m\u001b[0;32m      2\u001b[0m \u001b[0mbiggest\u001b[0m \u001b[1;33m=\u001b[0m \u001b[0mnumbers\u001b[0m\u001b[1;33m[\u001b[0m\u001b[1;36m0\u001b[0m\u001b[1;33m]\u001b[0m\u001b[1;33m\u001b[0m\u001b[1;33m\u001b[0m\u001b[0m\n\u001b[0;32m      3\u001b[0m \u001b[0mprint\u001b[0m\u001b[1;33m(\u001b[0m\u001b[0mbiggest\u001b[0m\u001b[1;33m)\u001b[0m\u001b[1;33m\u001b[0m\u001b[1;33m\u001b[0m\u001b[0m\n",
      "\u001b[1;32m<ipython-input-21-43d2647353b1>\u001b[0m in \u001b[0;36msecond_number\u001b[1;34m(a, b, c)\u001b[0m\n\u001b[0;32m      1\u001b[0m \u001b[1;32mdef\u001b[0m \u001b[0msecond_number\u001b[0m\u001b[1;33m(\u001b[0m\u001b[0ma\u001b[0m\u001b[1;33m,\u001b[0m \u001b[0mb\u001b[0m\u001b[1;33m,\u001b[0m \u001b[0mc\u001b[0m\u001b[1;33m)\u001b[0m\u001b[1;33m:\u001b[0m\u001b[1;33m\u001b[0m\u001b[1;33m\u001b[0m\u001b[0m\n\u001b[1;32m----> 2\u001b[1;33m     \u001b[0msec_list\u001b[0m \u001b[1;33m=\u001b[0m \u001b[0mlist\u001b[0m\u001b[1;33m(\u001b[0m\u001b[0msecond_number\u001b[0m\u001b[1;33m(\u001b[0m\u001b[0ma\u001b[0m\u001b[1;33m,\u001b[0m \u001b[0mb\u001b[0m\u001b[1;33m,\u001b[0m \u001b[0mc\u001b[0m\u001b[1;33m)\u001b[0m\u001b[1;33m)\u001b[0m\u001b[1;33m\u001b[0m\u001b[1;33m\u001b[0m\u001b[0m\n\u001b[0m\u001b[0;32m      3\u001b[0m     \u001b[0mbiggest\u001b[0m \u001b[1;33m=\u001b[0m \u001b[0msec_list\u001b[0m\u001b[1;33m[\u001b[0m\u001b[1;36m0\u001b[0m\u001b[1;33m]\u001b[0m\u001b[1;33m\u001b[0m\u001b[1;33m\u001b[0m\u001b[0m\n\u001b[0;32m      4\u001b[0m     \u001b[1;32mfor\u001b[0m \u001b[0mi\u001b[0m \u001b[1;32min\u001b[0m \u001b[0mrange\u001b[0m\u001b[1;33m(\u001b[0m\u001b[1;36m1\u001b[0m\u001b[1;33m,\u001b[0m \u001b[1;36m3\u001b[0m\u001b[1;33m)\u001b[0m\u001b[1;33m:\u001b[0m\u001b[1;33m\u001b[0m\u001b[1;33m\u001b[0m\u001b[0m\n\u001b[0;32m      5\u001b[0m         \u001b[1;32mif\u001b[0m \u001b[0msec_list\u001b[0m\u001b[1;33m[\u001b[0m\u001b[0mi\u001b[0m\u001b[1;33m]\u001b[0m \u001b[1;33m>\u001b[0m \u001b[0mbiggest\u001b[0m\u001b[1;33m:\u001b[0m\u001b[1;33m\u001b[0m\u001b[1;33m\u001b[0m\u001b[0m\n",
      "... last 1 frames repeated, from the frame below ...\n",
      "\u001b[1;32m<ipython-input-21-43d2647353b1>\u001b[0m in \u001b[0;36msecond_number\u001b[1;34m(a, b, c)\u001b[0m\n\u001b[0;32m      1\u001b[0m \u001b[1;32mdef\u001b[0m \u001b[0msecond_number\u001b[0m\u001b[1;33m(\u001b[0m\u001b[0ma\u001b[0m\u001b[1;33m,\u001b[0m \u001b[0mb\u001b[0m\u001b[1;33m,\u001b[0m \u001b[0mc\u001b[0m\u001b[1;33m)\u001b[0m\u001b[1;33m:\u001b[0m\u001b[1;33m\u001b[0m\u001b[1;33m\u001b[0m\u001b[0m\n\u001b[1;32m----> 2\u001b[1;33m     \u001b[0msec_list\u001b[0m \u001b[1;33m=\u001b[0m \u001b[0mlist\u001b[0m\u001b[1;33m(\u001b[0m\u001b[0msecond_number\u001b[0m\u001b[1;33m(\u001b[0m\u001b[0ma\u001b[0m\u001b[1;33m,\u001b[0m \u001b[0mb\u001b[0m\u001b[1;33m,\u001b[0m \u001b[0mc\u001b[0m\u001b[1;33m)\u001b[0m\u001b[1;33m)\u001b[0m\u001b[1;33m\u001b[0m\u001b[1;33m\u001b[0m\u001b[0m\n\u001b[0m\u001b[0;32m      3\u001b[0m     \u001b[0mbiggest\u001b[0m \u001b[1;33m=\u001b[0m \u001b[0msec_list\u001b[0m\u001b[1;33m[\u001b[0m\u001b[1;36m0\u001b[0m\u001b[1;33m]\u001b[0m\u001b[1;33m\u001b[0m\u001b[1;33m\u001b[0m\u001b[0m\n\u001b[0;32m      4\u001b[0m     \u001b[1;32mfor\u001b[0m \u001b[0mi\u001b[0m \u001b[1;32min\u001b[0m \u001b[0mrange\u001b[0m\u001b[1;33m(\u001b[0m\u001b[1;36m1\u001b[0m\u001b[1;33m,\u001b[0m \u001b[1;36m3\u001b[0m\u001b[1;33m)\u001b[0m\u001b[1;33m:\u001b[0m\u001b[1;33m\u001b[0m\u001b[1;33m\u001b[0m\u001b[0m\n\u001b[0;32m      5\u001b[0m         \u001b[1;32mif\u001b[0m \u001b[0msec_list\u001b[0m\u001b[1;33m[\u001b[0m\u001b[0mi\u001b[0m\u001b[1;33m]\u001b[0m \u001b[1;33m>\u001b[0m \u001b[0mbiggest\u001b[0m\u001b[1;33m:\u001b[0m\u001b[1;33m\u001b[0m\u001b[1;33m\u001b[0m\u001b[0m\n",
      "\u001b[1;31mRecursionError\u001b[0m: maximum recursion depth exceeded"
     ]
    }
   ],
   "source": [
    "    numbers = list(second_number(a, b, c))\n",
    "    biggest = numbers[0]\n",
    "    print(biggest)"
   ]
  },
  {
   "cell_type": "markdown",
   "metadata": {
    "slideshow": {
     "slide_type": "slide"
    }
   },
   "source": [
    "### index와 함께 `for`문 활용하기\n",
    "\n",
    "`enumerate()`를 활용하면, 추가적인 변수를 활용할 수 있다."
   ]
  },
  {
   "cell_type": "code",
   "execution_count": null,
   "metadata": {},
   "outputs": [],
   "source": [
    "lunch = ['생선까스', '북어해장국', '비엔나 소세지']\n",
    "for index, menu in enumerate(lunch):\n",
    "    print(index, menu) #튜플"
   ]
  },
  {
   "cell_type": "markdown",
   "metadata": {
    "slideshow": {
     "slide_type": "subslide"
    }
   },
   "source": [
    "* `enumerate()`는 [파이썬 표준 라이브러리의 내장함수](https://docs.python.org/ko/3.6/library/functions.html) 중 하나이며, 다음과 같이 구성되어 있다.\n",
    "\n",
    "<center>\n",
    "    <img src=\"./images/02/enumerate.png\", alt=\"enumerate\">\n",
    "</center>"
   ]
  },
  {
   "cell_type": "code",
   "execution_count": null,
   "metadata": {},
   "outputs": [],
   "source": [
    "mates = ['박준태', '박찬미', '백지원', '송건호', '안도건']\n",
    "enumerate(mates) #<enumerate at 0x261ded4ea20> 0x로 시작하고 있으니 주소가 16진수로 되어있음\n",
    "list(enumerate(mates))"
   ]
  },
  {
   "cell_type": "code",
   "execution_count": null,
   "metadata": {},
   "outputs": [],
   "source": [
    "list(enumerate(mates, start = 1)) #start = 1 시작하는 수를 1로 지정해줌"
   ]
  },
  {
   "cell_type": "code",
   "execution_count": 2,
   "metadata": {},
   "outputs": [
    {
     "data": {
      "text/plain": [
       "[(0, 1), (1, 2), (2, 3)]"
      ]
     },
     "execution_count": 2,
     "metadata": {},
     "output_type": "execute_result"
    }
   ],
   "source": [
    "s = { 1, 2, 3 }\n",
    "list(enumerate(s)) #s = {3, 2, 1}로 순서 바꿔도 알아서 순서대로 인덱스 잡아서 나옴"
   ]
  },
  {
   "cell_type": "markdown",
   "metadata": {
    "slideshow": {
     "slide_type": "subslide"
    }
   },
   "source": [
    "### dictionary 반복문 활용하기\n",
    "\n",
    "기본적으로 dictionary를 `for`문을 시행시키면 다음과 같이 시행됩니다."
   ]
  },
  {
   "cell_type": "code",
   "execution_count": null,
   "metadata": {},
   "outputs": [],
   "source": [
    "classroom = { 'teacher': 'Yu', 'leader': 'Hwang', 'CA': 'kang' }\n",
    "print(classroom['teacher'])\n",
    "\n",
    "for role in classroom:\n",
    "    print(role)"
   ]
  },
  {
   "cell_type": "markdown",
   "metadata": {
    "slideshow": {
     "slide_type": "subslide"
    }
   },
   "source": [
    "dictionary의 `key`를 출력함으로써 `value`에도 접근할 수 있기 때문입니다.\n",
    "\n",
    "따라서 dictionary의 value를 출력하기 위해서는 아래와 같이 작성합니다."
   ]
  },
  {
   "cell_type": "code",
   "execution_count": null,
   "metadata": {},
   "outputs": [],
   "source": [
    "for role in classroom:\n",
    "    print(classroom[role])"
   ]
  },
  {
   "cell_type": "markdown",
   "metadata": {
    "slideshow": {
     "slide_type": "subslide"
    }
   },
   "source": [
    "* dictionary에서 `for` 활용하는 4가지 방법\n",
    "\n",
    "```python\n",
    "# 0. dictionary (key 반복)\n",
    "for key in dict:\n",
    "    print(key)\n",
    "\n",
    "# 1. key 반복\n",
    "for key in dict.keys():\n",
    "    print(key)\n",
    "    \n",
    "# 2. value 반복    \n",
    "for val in dict.values():\n",
    "    print(val)\n",
    "\n",
    "# 3. key와 value 반복\n",
    "for key, val in dict.items():\n",
    "    print(key, val)\n",
    "\n",
    "```"
   ]
  },
  {
   "cell_type": "markdown",
   "metadata": {
    "slideshow": {
     "slide_type": "subslide"
    }
   },
   "source": [
    "### 실습문제 \n",
    "\n",
    "> 한번 직접 4가지 반복문을 활용해보고 출력되는 결과를 확인해보세요.\n",
    "\n",
    "```\n",
    "classroom = {\"teacher\": \"Kim\", \"student1\": \"Hong\", \"student2\": \"Kang\"}\n",
    "\n",
    "```"
   ]
  },
  {
   "cell_type": "code",
   "execution_count": null,
   "metadata": {},
   "outputs": [],
   "source": [
    "# 여기에 코드를 작성하세요.\n",
    "classroom = { \"teacher\": \"Kim\", \"student1\": \"Hong\", \"student2\": \"Kang\" }\n",
    "\n",
    "for key in classroom:\n",
    "    print(key)\n",
    "    \n",
    "for key in classroom.keys():\n",
    "    print(key)\n",
    "    \n",
    "for val in classroom.values():\n",
    "    print(val)\n",
    "    \n",
    "for key, val in classroom.items():\n",
    "    print(key, val)\n",
    "    \n",
    "for key, val in classroom.items():\n",
    "    print(f'{key} is {val}')"
   ]
  },
  {
   "cell_type": "markdown",
   "metadata": {
    "slideshow": {
     "slide_type": "slide"
    }
   },
   "source": [
    "## `break`, `continue`, `else`\n",
    "\n",
    "### `break`\n",
    "\n",
    "`break`문은 반복문을 종료하는 표현입니다. "
   ]
  },
  {
   "cell_type": "code",
   "execution_count": null,
   "metadata": {},
   "outputs": [],
   "source": [
    "for i in range(10):\n",
    "    if i == 6:\n",
    "        break\n",
    "    print(i)"
   ]
  },
  {
   "cell_type": "markdown",
   "metadata": {
    "slideshow": {
     "slide_type": "subslide"
    }
   },
   "source": [
    "#### 실습문제\n",
    "\n",
    "> 조건문과 반복문, break를 통해서 아래의 코드와 동일한 코드를 작성하세요.\n",
    "> \n",
    "> (3이 있을 경우 True를 print하고, 아닐 경우 False를 print 합니다.)\n",
    "\n",
    "\n",
    "```python\n",
    "numbers = [1, 5, 10]\n",
    "print(3 in numbers)\n",
    "```\n",
    "\n",
    "---\n",
    "```\n",
    "예시 출력)\n",
    "False\n",
    "```"
   ]
  },
  {
   "cell_type": "code",
   "execution_count": null,
   "metadata": {},
   "outputs": [],
   "source": [
    "numbers = [1, 5, 10]\n",
    "# 여기에 코드를 작성하세요.\n",
    "result = False\n",
    "for number in numbers:\n",
    "    if number == 3:\n",
    "        result = True\n",
    "        break\n",
    "        \n",
    "print(result)"
   ]
  },
  {
   "cell_type": "markdown",
   "metadata": {
    "slideshow": {
     "slide_type": "subslide"
    }
   },
   "source": [
    "### `continue` \n",
    "\n",
    "`continue`문은 continue 이후의 코드를 수행하지 않고 다음 요소를 선택해 반복을 계속 수행합니다."
   ]
  },
  {
   "cell_type": "code",
   "execution_count": null,
   "metadata": {},
   "outputs": [],
   "source": [
    "for i in range(6):\n",
    "    if i % 2 == 0:\n",
    "        continue #continue는 다음? 밑의 내용으로 진행되지 않고 다음 회차로 넘어감\n",
    "    print(f'{i}is odd number')"
   ]
  },
  {
   "cell_type": "markdown",
   "metadata": {
    "slideshow": {
     "slide_type": "subslide"
    }
   },
   "source": [
    "### `else`\n",
    "\n",
    "`else`문은 끝까지 반복문을 시행한 이후에 실행됩니다.\n",
    "\n",
    "(`break`를 통해 중간에 종료되지 않은 경우만 실행)"
   ]
  },
  {
   "cell_type": "code",
   "execution_count": null,
   "metadata": {},
   "outputs": [],
   "source": [
    "for i in range(3):\n",
    "    if i == 3:\n",
    "        print(f'{i}에서 break 실행됨')\n",
    "        break\n",
    "else:\n",
    "    print('break 안걸림!') #마지막을 찍었을 때만 실행됨"
   ]
  },
  {
   "cell_type": "code",
   "execution_count": null,
   "metadata": {},
   "outputs": [],
   "source": [
    "for i in range(3):\n",
    "    if i == 1:\n",
    "        print(f'{i}에서 break 실행됨')\n",
    "        break\n",
    "else:\n",
    "    print('break 안걸림!') #break에서 끊겨서 볼 수 없음"
   ]
  },
  {
   "cell_type": "markdown",
   "metadata": {},
   "source": [
    "## Problem Set!"
   ]
  },
  {
   "cell_type": "markdown",
   "metadata": {},
   "source": [
    "> `colors =['red', 'green', 'blue', 'white', 'black', 'gold']` 다음 리스트에서 0, 4, 5 index에 있는 요소들을 삭제한 새로운 리스트를 만드세요."
   ]
  },
  {
   "cell_type": "code",
   "execution_count": 122,
   "metadata": {},
   "outputs": [
    {
     "name": "stdout",
     "output_type": "stream",
     "text": [
      "['green', 'blue', 'white']\n"
     ]
    }
   ],
   "source": [
    "colors =['red', 'green', 'blue', 'white', 'black', 'gold']\n",
    "# del colors[0]\n",
    "# del colors[3] 4-1\n",
    "# del colors[3] 5-2\n",
    "\n",
    "del colors[5]\n",
    "del colors[4]\n",
    "del colors[0]\n",
    "\n",
    "print(colors)"
   ]
  },
  {
   "cell_type": "code",
   "execution_count": 127,
   "metadata": {},
   "outputs": [
    {
     "name": "stdout",
     "output_type": "stream",
     "text": [
      "['green', 'blue', 'white']\n",
      "['green', 'blue', 'white']\n",
      "['green', 'blue', 'white']\n"
     ]
    }
   ],
   "source": [
    "#A1\n",
    "colors =['red', 'green', 'blue', 'white', 'black', 'gold']\n",
    "\n",
    "delete_index = [0, 4, 5]\n",
    "remain_colors = []\n",
    "for index, color in enumerate(colors):\n",
    "    if index not in delete_index:\n",
    "        remain_colors.append(color)\n",
    "print(remain_colors)\n",
    "\n",
    "#A2\n",
    "remain_colors = []\n",
    "\n",
    "for color in colors:\n",
    "    if colors.index(color) not in (0, 4, 5):\n",
    "        remain_colors.append(color)\n",
    "print(remain_colors)\n",
    "\n",
    "#A3\n",
    "remain_colors = []\n",
    "\n",
    "for color in colors:\n",
    "    if color not in colors[0] and color not in colors[4] and color not in colors[5]:\n",
    "        remain_colors.append(color)\n",
    "print(remain_colors)"
   ]
  },
  {
   "cell_type": "code",
   "execution_count": 22,
   "metadata": {},
   "outputs": [
    {
     "ename": "RecursionError",
     "evalue": "maximum recursion depth exceeded",
     "output_type": "error",
     "traceback": [
      "\u001b[1;31m---------------------------------------------------------------------------\u001b[0m",
      "\u001b[1;31mRecursionError\u001b[0m                            Traceback (most recent call last)",
      "\u001b[1;32m<ipython-input-22-e2ad38d34043>\u001b[0m in \u001b[0;36m<module>\u001b[1;34m\u001b[0m\n\u001b[1;32m----> 1\u001b[1;33m \u001b[0mnumbers\u001b[0m \u001b[1;33m=\u001b[0m \u001b[0mlist\u001b[0m\u001b[1;33m(\u001b[0m\u001b[0msecond_number\u001b[0m\u001b[1;33m(\u001b[0m\u001b[0ma\u001b[0m\u001b[1;33m,\u001b[0m \u001b[0mb\u001b[0m\u001b[1;33m,\u001b[0m \u001b[0mc\u001b[0m\u001b[1;33m)\u001b[0m\u001b[1;33m)\u001b[0m\u001b[1;33m\u001b[0m\u001b[1;33m\u001b[0m\u001b[0m\n\u001b[0m\u001b[0;32m      2\u001b[0m \u001b[0mbiggest\u001b[0m \u001b[1;33m=\u001b[0m \u001b[0mnumbers\u001b[0m\u001b[1;33m[\u001b[0m\u001b[1;36m0\u001b[0m\u001b[1;33m]\u001b[0m\u001b[1;33m\u001b[0m\u001b[1;33m\u001b[0m\u001b[0m\n\u001b[0;32m      3\u001b[0m \u001b[0mprint\u001b[0m\u001b[1;33m(\u001b[0m\u001b[0mbiggest\u001b[0m\u001b[1;33m)\u001b[0m\u001b[1;33m\u001b[0m\u001b[1;33m\u001b[0m\u001b[0m\n",
      "\u001b[1;32m<ipython-input-21-43d2647353b1>\u001b[0m in \u001b[0;36msecond_number\u001b[1;34m(a, b, c)\u001b[0m\n\u001b[0;32m      1\u001b[0m \u001b[1;32mdef\u001b[0m \u001b[0msecond_number\u001b[0m\u001b[1;33m(\u001b[0m\u001b[0ma\u001b[0m\u001b[1;33m,\u001b[0m \u001b[0mb\u001b[0m\u001b[1;33m,\u001b[0m \u001b[0mc\u001b[0m\u001b[1;33m)\u001b[0m\u001b[1;33m:\u001b[0m\u001b[1;33m\u001b[0m\u001b[1;33m\u001b[0m\u001b[0m\n\u001b[1;32m----> 2\u001b[1;33m     \u001b[0msec_list\u001b[0m \u001b[1;33m=\u001b[0m \u001b[0mlist\u001b[0m\u001b[1;33m(\u001b[0m\u001b[0msecond_number\u001b[0m\u001b[1;33m(\u001b[0m\u001b[0ma\u001b[0m\u001b[1;33m,\u001b[0m \u001b[0mb\u001b[0m\u001b[1;33m,\u001b[0m \u001b[0mc\u001b[0m\u001b[1;33m)\u001b[0m\u001b[1;33m)\u001b[0m\u001b[1;33m\u001b[0m\u001b[1;33m\u001b[0m\u001b[0m\n\u001b[0m\u001b[0;32m      3\u001b[0m     \u001b[0mbiggest\u001b[0m \u001b[1;33m=\u001b[0m \u001b[0msec_list\u001b[0m\u001b[1;33m[\u001b[0m\u001b[1;36m0\u001b[0m\u001b[1;33m]\u001b[0m\u001b[1;33m\u001b[0m\u001b[1;33m\u001b[0m\u001b[0m\n\u001b[0;32m      4\u001b[0m     \u001b[1;32mfor\u001b[0m \u001b[0mi\u001b[0m \u001b[1;32min\u001b[0m \u001b[0mrange\u001b[0m\u001b[1;33m(\u001b[0m\u001b[1;36m1\u001b[0m\u001b[1;33m,\u001b[0m \u001b[1;36m3\u001b[0m\u001b[1;33m)\u001b[0m\u001b[1;33m:\u001b[0m\u001b[1;33m\u001b[0m\u001b[1;33m\u001b[0m\u001b[0m\n\u001b[0;32m      5\u001b[0m         \u001b[1;32mif\u001b[0m \u001b[0msec_list\u001b[0m\u001b[1;33m[\u001b[0m\u001b[0mi\u001b[0m\u001b[1;33m]\u001b[0m \u001b[1;33m>\u001b[0m \u001b[0mbiggest\u001b[0m\u001b[1;33m:\u001b[0m\u001b[1;33m\u001b[0m\u001b[1;33m\u001b[0m\u001b[0m\n",
      "... last 1 frames repeated, from the frame below ...\n",
      "\u001b[1;32m<ipython-input-21-43d2647353b1>\u001b[0m in \u001b[0;36msecond_number\u001b[1;34m(a, b, c)\u001b[0m\n\u001b[0;32m      1\u001b[0m \u001b[1;32mdef\u001b[0m \u001b[0msecond_number\u001b[0m\u001b[1;33m(\u001b[0m\u001b[0ma\u001b[0m\u001b[1;33m,\u001b[0m \u001b[0mb\u001b[0m\u001b[1;33m,\u001b[0m \u001b[0mc\u001b[0m\u001b[1;33m)\u001b[0m\u001b[1;33m:\u001b[0m\u001b[1;33m\u001b[0m\u001b[1;33m\u001b[0m\u001b[0m\n\u001b[1;32m----> 2\u001b[1;33m     \u001b[0msec_list\u001b[0m \u001b[1;33m=\u001b[0m \u001b[0mlist\u001b[0m\u001b[1;33m(\u001b[0m\u001b[0msecond_number\u001b[0m\u001b[1;33m(\u001b[0m\u001b[0ma\u001b[0m\u001b[1;33m,\u001b[0m \u001b[0mb\u001b[0m\u001b[1;33m,\u001b[0m \u001b[0mc\u001b[0m\u001b[1;33m)\u001b[0m\u001b[1;33m)\u001b[0m\u001b[1;33m\u001b[0m\u001b[1;33m\u001b[0m\u001b[0m\n\u001b[0m\u001b[0;32m      3\u001b[0m     \u001b[0mbiggest\u001b[0m \u001b[1;33m=\u001b[0m \u001b[0msec_list\u001b[0m\u001b[1;33m[\u001b[0m\u001b[1;36m0\u001b[0m\u001b[1;33m]\u001b[0m\u001b[1;33m\u001b[0m\u001b[1;33m\u001b[0m\u001b[0m\n\u001b[0;32m      4\u001b[0m     \u001b[1;32mfor\u001b[0m \u001b[0mi\u001b[0m \u001b[1;32min\u001b[0m \u001b[0mrange\u001b[0m\u001b[1;33m(\u001b[0m\u001b[1;36m1\u001b[0m\u001b[1;33m,\u001b[0m \u001b[1;36m3\u001b[0m\u001b[1;33m)\u001b[0m\u001b[1;33m:\u001b[0m\u001b[1;33m\u001b[0m\u001b[1;33m\u001b[0m\u001b[0m\n\u001b[0;32m      5\u001b[0m         \u001b[1;32mif\u001b[0m \u001b[0msec_list\u001b[0m\u001b[1;33m[\u001b[0m\u001b[0mi\u001b[0m\u001b[1;33m]\u001b[0m \u001b[1;33m>\u001b[0m \u001b[0mbiggest\u001b[0m\u001b[1;33m:\u001b[0m\u001b[1;33m\u001b[0m\u001b[1;33m\u001b[0m\u001b[0m\n",
      "\u001b[1;31mRecursionError\u001b[0m: maximum recursion depth exceeded"
     ]
    }
   ],
   "source": [
    "    numbers = list(second_number(a, b, c))\n",
    "    biggest = numbers[0]\n",
    "    print(biggest)"
   ]
  },
  {
   "cell_type": "markdown",
   "metadata": {},
   "source": [
    "#### 달력 출력하기\n",
    "> 1월부터 12월까지 다음과 같은 형태로 달력을 출력하세요.\n",
    "```\n",
    "1월\n",
    "일 월 화 수 목 금 토(1 space)\n",
    "----------------------\n",
    "1  2  3  4  5  6  7 (2 space) 한자리는 2 space 두자리는 1 space\n",
    "...\n",
    "\n",
    "29 30 31\n",
    "\n",
    "2월\n",
    "...\n",
    "\n",
    "```\n"
   ]
  },
  {
   "cell_type": "code",
   "execution_count": 20,
   "metadata": {},
   "outputs": [
    {
     "name": "stdout",
     "output_type": "stream",
     "text": [
      "1 월\n",
      "Sun|Mon|Tue|Wed|Thu|Fri|Sat|\n",
      "----------------------------\n",
      "  1|  2|  3|  4|  5|  6|  7|\n",
      "  8|  9| 10| 11| 12| 13| 14|\n",
      " 15| 16| 17| 18| 19| 20| 21|\n",
      " 22| 23| 24| 25| 26| 27| 28|\n",
      " 29| 30| 31|\n",
      "\n",
      "2 월\n",
      "Sun|Mon|Tue|Wed|Thu|Fri|Sat|\n",
      "----------------------------\n",
      "  1|  2|  3|  4|  5|  6|  7|\n",
      "  8|  9| 10| 11| 12| 13| 14|\n",
      " 15| 16| 17| 18| 19| 20| 21|\n",
      " 22| 23| 24| 25| 26| 27| 28|\n",
      "\n",
      "3 월\n",
      "Sun|Mon|Tue|Wed|Thu|Fri|Sat|\n",
      "----------------------------\n",
      "  1|  2|  3|  4|  5|  6|  7|\n",
      "  8|  9| 10| 11| 12| 13| 14|\n",
      " 15| 16| 17| 18| 19| 20| 21|\n",
      " 22| 23| 24| 25| 26| 27| 28|\n",
      " 29| 30| 31|\n",
      "\n",
      "4 월\n",
      "Sun|Mon|Tue|Wed|Thu|Fri|Sat|\n",
      "----------------------------\n",
      "  1|  2|  3|  4|  5|  6|  7|\n",
      "  8|  9| 10| 11| 12| 13| 14|\n",
      " 15| 16| 17| 18| 19| 20| 21|\n",
      " 22| 23| 24| 25| 26| 27| 28|\n",
      " 29| 30|\n",
      "\n",
      "5 월\n",
      "Sun|Mon|Tue|Wed|Thu|Fri|Sat|\n",
      "----------------------------\n",
      "  1|  2|  3|  4|  5|  6|  7|\n",
      "  8|  9| 10| 11| 12| 13| 14|\n",
      " 15| 16| 17| 18| 19| 20| 21|\n",
      " 22| 23| 24| 25| 26| 27| 28|\n",
      " 29| 30| 31|\n",
      "\n",
      "6 월\n",
      "Sun|Mon|Tue|Wed|Thu|Fri|Sat|\n",
      "----------------------------\n",
      "  1|  2|  3|  4|  5|  6|  7|\n",
      "  8|  9| 10| 11| 12| 13| 14|\n",
      " 15| 16| 17| 18| 19| 20| 21|\n",
      " 22| 23| 24| 25| 26| 27| 28|\n",
      " 29| 30|\n",
      "\n",
      "7 월\n",
      "Sun|Mon|Tue|Wed|Thu|Fri|Sat|\n",
      "----------------------------\n",
      "  1|  2|  3|  4|  5|  6|  7|\n",
      "  8|  9| 10| 11| 12| 13| 14|\n",
      " 15| 16| 17| 18| 19| 20| 21|\n",
      " 22| 23| 24| 25| 26| 27| 28|\n",
      " 29| 30| 31|\n",
      "\n",
      "8 월\n",
      "Sun|Mon|Tue|Wed|Thu|Fri|Sat|\n",
      "----------------------------\n",
      "  1|  2|  3|  4|  5|  6|  7|\n",
      "  8|  9| 10| 11| 12| 13| 14|\n",
      " 15| 16| 17| 18| 19| 20| 21|\n",
      " 22| 23| 24| 25| 26| 27| 28|\n",
      " 29| 30| 31|\n",
      "\n",
      "9 월\n",
      "Sun|Mon|Tue|Wed|Thu|Fri|Sat|\n",
      "----------------------------\n",
      "  1|  2|  3|  4|  5|  6|  7|\n",
      "  8|  9| 10| 11| 12| 13| 14|\n",
      " 15| 16| 17| 18| 19| 20| 21|\n",
      " 22| 23| 24| 25| 26| 27| 28|\n",
      " 29| 30|\n",
      "\n",
      "10 월\n",
      "Sun|Mon|Tue|Wed|Thu|Fri|Sat|\n",
      "----------------------------\n",
      "  1|  2|  3|  4|  5|  6|  7|\n",
      "  8|  9| 10| 11| 12| 13| 14|\n",
      " 15| 16| 17| 18| 19| 20| 21|\n",
      " 22| 23| 24| 25| 26| 27| 28|\n",
      " 29| 30| 31|\n",
      "\n",
      "11 월\n",
      "Sun|Mon|Tue|Wed|Thu|Fri|Sat|\n",
      "----------------------------\n",
      "  1|  2|  3|  4|  5|  6|  7|\n",
      "  8|  9| 10| 11| 12| 13| 14|\n",
      " 15| 16| 17| 18| 19| 20| 21|\n",
      " 22| 23| 24| 25| 26| 27| 28|\n",
      " 29| 30|\n",
      "\n",
      "12 월\n",
      "Sun|Mon|Tue|Wed|Thu|Fri|Sat|\n",
      "----------------------------\n",
      "  1|  2|  3|  4|  5|  6|  7|\n",
      "  8|  9| 10| 11| 12| 13| 14|\n",
      " 15| 16| 17| 18| 19| 20| 21|\n",
      " 22| 23| 24| 25| 26| 27| 28|\n",
      " 29| 30| 31|\n",
      "\n"
     ]
    },
    {
     "data": {
      "text/plain": [
       "3"
      ]
     },
     "execution_count": 20,
     "metadata": {},
     "output_type": "execute_result"
    }
   ],
   "source": [
    "#풀이\n",
    "\n",
    "months_end = { 1: 31, 2: 28, 3: 31, 4: 30, 5: 31, 6: 30,\n",
    "              7: 31, 8: 31, 9: 30, 10: 31, 11: 30, 12: 31 \n",
    "}\n",
    "weeks = [ 'Sun', 'Mon', 'Tue', 'Wed', 'Thu', 'Fri', 'Sat' ]\n",
    "\n",
    "for month, end_date in months_end.items():\n",
    "    print(month, '월')\n",
    "    for yoil in weeks:\n",
    "        print(yoil, end='|')\n",
    "    print()\n",
    "    print('-' * 28)\n",
    "    \n",
    "    count = 0\n",
    "    for day in range(1, end_date + 1):\n",
    "        print(f' {day}|', end='') if day >= 10 else print(f'  {day}|', end='')\n",
    "        count += 1\n",
    "        if count == 7 and day != end_date:\n",
    "            print()\n",
    "            count = 0\n",
    "    print('\\n')\n",
    "\n",
    "\n",
    "[end_date%7 - 1] "
   ]
  },
  {
   "cell_type": "code",
   "execution_count": 8,
   "metadata": {},
   "outputs": [
    {
     "name": "stdout",
     "output_type": "stream",
     "text": [
      "1 월\n",
      "Sun|Mon|Tue|Wed|Thu|Fri|Sat|\n",
      "----------------------------\n",
      "  1|  2|  3|  4|  5|  6|  7|\n",
      "  8|  9| 10| 11| 12| 13| 14|\n",
      " 15| 16| 17| 18| 19| 20| 21|\n",
      " 22| 23| 24| 25| 26| 27| 28|\n",
      " 29| 30| 31|\n",
      "\n",
      "2 월\n",
      "Sun|Mon|Tue|Wed|Thu|Fri|Sat|\n",
      "----------------------------\n",
      "  1|  2|  3|  4|  5|  6|  7|\n",
      "  8|  9| 10| 11| 12| 13| 14|\n",
      " 15| 16| 17| 18| 19| 20| 21|\n",
      " 22| 23| 24| 25| 26| 27| 28|\n",
      "\n",
      "3 월\n",
      "Sun|Mon|Tue|Wed|Thu|Fri|Sat|\n",
      "----------------------------\n",
      "  1|  2|  3|  4|  5|  6|  7|\n",
      "  8|  9| 10| 11| 12| 13| 14|\n",
      " 15| 16| 17| 18| 19| 20| 21|\n",
      " 22| 23| 24| 25| 26| 27| 28|\n",
      " 29| 30| 31|\n",
      "\n",
      "4 월\n",
      "Sun|Mon|Tue|Wed|Thu|Fri|Sat|\n",
      "----------------------------\n",
      "  1|  2|  3|  4|  5|  6|  7|\n",
      "  8|  9| 10| 11| 12| 13| 14|\n",
      " 15| 16| 17| 18| 19| 20| 21|\n",
      " 22| 23| 24| 25| 26| 27| 28|\n",
      " 29| 30|\n",
      "\n",
      "5 월\n",
      "Sun|Mon|Tue|Wed|Thu|Fri|Sat|\n",
      "----------------------------\n",
      "  1|  2|  3|  4|  5|  6|  7|\n",
      "  8|  9| 10| 11| 12| 13| 14|\n",
      " 15| 16| 17| 18| 19| 20| 21|\n",
      " 22| 23| 24| 25| 26| 27| 28|\n",
      " 29| 30| 31|\n",
      "\n",
      "6 월\n",
      "Sun|Mon|Tue|Wed|Thu|Fri|Sat|\n",
      "----------------------------\n",
      "  1|  2|  3|  4|  5|  6|  7|\n",
      "  8|  9| 10| 11| 12| 13| 14|\n",
      " 15| 16| 17| 18| 19| 20| 21|\n",
      " 22| 23| 24| 25| 26| 27| 28|\n",
      " 29| 30|\n",
      "\n",
      "7 월\n",
      "Sun|Mon|Tue|Wed|Thu|Fri|Sat|\n",
      "----------------------------\n",
      "  1|  2|  3|  4|  5|  6|  7|\n",
      "  8|  9| 10| 11| 12| 13| 14|\n",
      " 15| 16| 17| 18| 19| 20| 21|\n",
      " 22| 23| 24| 25| 26| 27| 28|\n",
      " 29| 30| 31|\n",
      "\n",
      "8 월\n",
      "Sun|Mon|Tue|Wed|Thu|Fri|Sat|\n",
      "----------------------------\n",
      "  1|  2|  3|  4|  5|  6|  7|\n",
      "  8|  9| 10| 11| 12| 13| 14|\n",
      " 15| 16| 17| 18| 19| 20| 21|\n",
      " 22| 23| 24| 25| 26| 27| 28|\n",
      " 29| 30| 31|\n",
      "\n",
      "9 월\n",
      "Sun|Mon|Tue|Wed|Thu|Fri|Sat|\n",
      "----------------------------\n",
      "  1|  2|  3|  4|  5|  6|  7|\n",
      "  8|  9| 10| 11| 12| 13| 14|\n",
      " 15| 16| 17| 18| 19| 20| 21|\n",
      " 22| 23| 24| 25| 26| 27| 28|\n",
      " 29| 30|\n",
      "\n",
      "10 월\n",
      "Sun|Mon|Tue|Wed|Thu|Fri|Sat|\n",
      "----------------------------\n",
      "  1|  2|  3|  4|  5|  6|  7|\n",
      "  8|  9| 10| 11| 12| 13| 14|\n",
      " 15| 16| 17| 18| 19| 20| 21|\n",
      " 22| 23| 24| 25| 26| 27| 28|\n",
      " 29| 30| 31|\n",
      "\n",
      "11 월\n",
      "Sun|Mon|Tue|Wed|Thu|Fri|Sat|\n",
      "----------------------------\n",
      "  1|  2|  3|  4|  5|  6|  7|\n",
      "  8|  9| 10| 11| 12| 13| 14|\n",
      " 15| 16| 17| 18| 19| 20| 21|\n",
      " 22| 23| 24| 25| 26| 27| 28|\n",
      " 29| 30|\n",
      "\n",
      "12 월\n",
      "Sun|Mon|Tue|Wed|Thu|Fri|Sat|\n",
      "----------------------------\n",
      "  1|  2|  3|  4|  5|  6|  7|\n",
      "  8|  9| 10| 11| 12| 13| 14|\n",
      " 15| 16| 17| 18| 19| 20| 21|\n",
      " 22| 23| 24| 25| 26| 27| 28|\n",
      " 29| 30| 31|\n",
      "\n"
     ]
    }
   ],
   "source": [
    "#풀이\n",
    "\n",
    "months_end = { 1: 31, 2: 28, 3: 31, 4: 30, 5: 31, 6: 30,\n",
    "              7: 31, 8: 31, 9: 30, 10: 31, 11: 30, 12: 31 \n",
    "}\n",
    "weeks = [ 'Sun', 'Mon', 'Tue', 'Wed', 'Thu', 'Fri', 'Sat' ]\n",
    "    \n",
    "for month, end_date in months_end.items():\n",
    "    print(month, '월')\n",
    "    for yoil in weeks:\n",
    "        print(yoil, end='|')\n",
    "    print()\n",
    "    print('-' * 28)\n",
    "    \n",
    "    count = 0\n",
    "    for day in range(1, end_date + 1):\n",
    "        print(f' {day}|', end='') if day >= 10 else print(f'  {day}|', end='')\n",
    "        count += 1\n",
    "        if count == 7 and day != end_date:\n",
    "            print()\n",
    "            count = 0\n",
    "    print('\\n')\n",
    "\n",
    "\n",
    "# start_date = 0\n",
    "# if end_date%7 == 6:\n",
    "#     start_date == 0\n",
    "#     continue\n",
    "# else:\n",
    "#     start_date = end_date%7\n",
    "#     print(start_date * '    ')\n",
    "\n"
   ]
  }
 ],
 "metadata": {
  "celltoolbar": "Slideshow",
  "kernelspec": {
   "display_name": "Python 3",
   "language": "python",
   "name": "python3"
  },
  "language_info": {
   "codemirror_mode": {
    "name": "ipython",
    "version": 3
   },
   "file_extension": ".py",
   "mimetype": "text/x-python",
   "name": "python",
   "nbconvert_exporter": "python",
   "pygments_lexer": "ipython3",
   "version": "3.6.7"
  },
  "toc": {
   "base_numbering": 1,
   "nav_menu": {},
   "number_sections": true,
   "sideBar": true,
   "skip_h1_title": false,
   "title_cell": "Table of Contents",
   "title_sidebar": "Contents",
   "toc_cell": false,
   "toc_position": {},
   "toc_section_display": true,
   "toc_window_display": false
  }
 },
 "nbformat": 4,
 "nbformat_minor": 2
}
